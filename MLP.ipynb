{
 "cells": [
  {
   "cell_type": "markdown",
   "id": "52dba7f5",
   "metadata": {},
   "source": [
    "# Deep Joint Mean & Quantile Regression\n",
    "## Key Ideas\n",
    "Many deep learning models fail to convey uncertainty estimates in their predictions despite the current success in making accurate predictions. One way to overcome this is to predict quantiles in order to construct prediction intervals, which is able to express prediction uncertainty in terms of the coverage percentage and interval length (ICP & MIL which will be discussed later). Besides, with sufficient amount of quantiles, it is possible to approximate the predictive distribution to arbitrarily high precision. However, most approaches attempt to predict each quantile functions individually which often lead to the quantile crossing problem - which contradicts the property of quantile as a non-decreasing function (quantile is essentially the inverse function of CDF which is non-decreasing). \n",
    "\n",
    "Therefore, this paper aims to:\n",
    "1) propose a multi-output multi-quantile deep neural network architecture based on convolutional LSTM layers for jointly predicting the mean and quantiles of the predictive distribution on a 2D grid (our implementation will be 1D)\n",
    "2) show that approaching the problem of multiple-quantile estimation from a multitask learning perspective solves the quantile crossing problem\n",
    "3) show that adding the tilted loss (known as pinball loss) to the loss function includes a regularization effect which can lead to better mean predictions\n",
    "\n",
    "Reference: \n",
    "Rodrigues, F., & Pereira, F. C. (2020). Beyond expectation: Deep joint mean and quantile regression for spatiotemporal problems. IEEE transactions on neural networks and learning systems, 31(12), 5377-5389."
   ]
  },
  {
   "cell_type": "code",
   "execution_count": 1,
   "id": "23e6afdb",
   "metadata": {},
   "outputs": [],
   "source": [
    "import torch\n",
    "from torch import nn\n",
    "import numpy as np\n",
    "import pandas as pd\n",
    "from d2l import torch as d2l"
   ]
  },
  {
   "cell_type": "markdown",
   "id": "9a166dfd",
   "metadata": {},
   "source": [
    "## Hyperparameters\n",
    "This is the MLP implementation of the same idea, our base input is a 1D time-series data of return values with shape (time) x (number of securities/features). The dataset with around 5200 rows (days) and 14 columns (features) is split into 2400 rows for training, 800 rows for validation and 1600 rows for testing. \n",
    "\n",
    "Reference:\n",
    "https://github.com/fmpr/DeepJMQR/tree/master"
   ]
  },
  {
   "cell_type": "code",
   "execution_count": 2,
   "id": "d7e03a2f",
   "metadata": {},
   "outputs": [],
   "source": [
    "#Config Parameters\n",
    "quantiles = [0.05, 0.10, 0.20, 0.30, 0.40, 0.60, 0.70, 0.80, 0.90, 0.95]\n",
    "qlen = len(quantiles)\n",
    "i_train = 2400\n",
    "i_val = i_train + 800\n",
    "i_test = i_val + 1600 "
   ]
  },
  {
   "cell_type": "markdown",
   "id": "b644020d",
   "metadata": {},
   "source": [
    "Using 1 month data (lag_period = 20 trading days), the model predicts returns and 10 quantiles (11 outputs per day per securities) 2 days ahead (forecast_horizon). For MLP, the 2D shaped inputs fed into the model is flattened into 1D tensor for computation and unflattened afterwards which is how num_inputs & num_outputs are defined.\n",
    "\n",
    "<br>num_inputs is the tensor length after flattening the input data and num_outputs is the tensor length before unflattening the output data\n",
    "<br>note: change num_iter to small numbers for quick testing, otherwise it takes a few minutes"
   ]
  },
  {
   "cell_type": "code",
   "execution_count": 3,
   "id": "ce2343a6",
   "metadata": {},
   "outputs": [],
   "source": [
    "batch_size, lr, n_epochs, num_iter = 128, 0.002, 100, 30\n",
    "lag_period, num_features, forecast_horizon = 20, 14, 2\n",
    "num_inputs, num_outputs, num_hidden1, num_hidden2 = lag_period*num_features, (1+qlen)*num_features, 200, 200\n",
    "dropout= 0.2"
   ]
  },
  {
   "cell_type": "markdown",
   "id": "db1a8496",
   "metadata": {},
   "source": [
    "## Load Data\n",
    "The date is first removed from the data. Then, the base input (alldata) is organized into inputs (X) and labels (Y). X is of the shape (index) x (time = 20) x (no. of features = 14) which index decides/indicates the starting date. Y contains the returns data 20+2 days ahead of the respective element with same index in X. \n",
    "<br> e.g. X[5,:,1] refers to the returns data of day 6 to 25 of the 2nd securities, Y[5,1] refers to the return data on day (5+20+2 = 27) of the 2nd securities"
   ]
  },
  {
   "cell_type": "code",
   "execution_count": 4,
   "id": "30f340a2",
   "metadata": {},
   "outputs": [],
   "source": [
    "#Load & Split Data\n",
    "data = pd.read_csv(\"/Users/lixiang/Desktop/DeepJMQR Project/data.csv\")\n",
    "alldata = np.array(data)[:,1:].astype(\"float32\")\n",
    "torch.set_default_dtype(torch.float32)\n",
    "X = []\n",
    "for i in range(lag_period, len(data)):\n",
    "    X.append(alldata[i-lag_period:i])\n",
    "X = torch.tensor(np.array(X), requires_grad = True)\n",
    "Y = alldata[lag_period+forecast_horizon:]"
   ]
  },
  {
   "cell_type": "markdown",
   "id": "7e7f674b",
   "metadata": {},
   "source": [
    "X and Y are split into training, validation and testing sets and the respective (input,label) pairs are combined into iterations using DataLoader."
   ]
  },
  {
   "cell_type": "code",
   "execution_count": 5,
   "id": "099005e3",
   "metadata": {},
   "outputs": [],
   "source": [
    "X_train, Y_train = X[:i_train], torch.tensor(Y[:i_train])\n",
    "X_val, Y_val = X[i_train:i_val], Y[i_train:i_val]\n",
    "X_test, Y_test = X[i_val:i_test], Y[i_val:i_test]\n",
    "train_iter = torch.utils.data.DataLoader(list(zip(X_train,Y_train)), batch_size=batch_size, shuffle = True)\n",
    "val_iter = torch.utils.data.DataLoader(list(zip(X_val,Y_val)), batch_size=batch_size, shuffle = False)"
   ]
  },
  {
   "attachments": {
    "Screenshot%202023-05-31%20at%2010.23.39%20AM.png": {
     "image/png": "[encoded data removed]"
    }
   },
   "cell_type": "markdown",
   "id": "50c27bd0",
   "metadata": {},
   "source": [
    "## Evaluation & Loss Functions\n",
    "The functions below are defined such that hopefully, they could be used in both MLP and ConvLSTM implementations.\n",
    "For the inputs to these functions, they are defined as follows:\n",
    "1. $\\hat{y}$: prediction with shape (index/date) x (no. of features = 14) x (outputs = 1 mean + 10 quantiles) \n",
    "2. $y$: observation with shape (index/date) x (no. of features = 14), corresponds to Y_'s in the cell above\n",
    "3. $\\tau$: quantile vector of length (J=10)\n",
    "\n",
    "$y$ and $\\hat{y}$ are tensors for loss function and numpy array for evaluation functions.\n",
    "All the losses are divided by the number of indices/set size (y.shape[0]) to make them comparable across different dataset sizes.\n",
    "<br>\n",
    "<br>\n",
    "\n",
    "### Loss Function\n",
    "As defined in the paper, the loss function is the sum of squared errors and tilted loss. The for loop computes the 2nd summation.\n",
    "![Screenshot%202023-05-31%20at%2010.23.39%20AM.png](attachment:Screenshot%202023-05-31%20at%2010.23.39%20AM.png)"
   ]
  },
  {
   "cell_type": "code",
   "execution_count": 6,
   "id": "f965df57",
   "metadata": {},
   "outputs": [],
   "source": [
    "#Evaluation & Loss Functions\n",
    "def lossfn(τ, y, ŷ):\n",
    "    loss = torch.sum(torch.square(y-ŷ[:,:,0]))\n",
    "    for i in range(len(τ)):\n",
    "        q = τ[i]\n",
    "        r = y - ŷ[:,:,i+1]\n",
    "        loss += torch.sum(q*r - r*(r<0))\n",
    "    loss /= y.shape[0]\n",
    "    return loss"
   ]
  },
  {
   "attachments": {
    "Screenshot%202023-05-31%20at%2010.39.26%20AM.png": {
     "image/png": "[encoded data removed]"
    }
   },
   "cell_type": "markdown",
   "id": "6089e42c",
   "metadata": {},
   "source": [
    "### Tilted Loss\n",
    "Similar to the 2nd summation in loss function. Tilted loss is evaluated on quantiles only which is why the final index (i+1) ranges from 1 to 10 for $\\hat{y}$.\n",
    "![Screenshot%202023-05-31%20at%2010.39.26%20AM.png](attachment:Screenshot%202023-05-31%20at%2010.39.26%20AM.png)"
   ]
  },
  {
   "cell_type": "code",
   "execution_count": 7,
   "id": "82bb0396",
   "metadata": {},
   "outputs": [],
   "source": [
    "#for evaluation: remember to turn tensors into np.array()\n",
    "def tilted_loss(τ, y, ŷ):\n",
    "    loss = 0.0\n",
    "    for i in range(len(τ)):\n",
    "        q = τ[i]\n",
    "        r = y - ŷ[:,:,i+1]\n",
    "        loss += np.sum(q*r - r*(r<0))\n",
    "    loss /= y.shape[0]\n",
    "    return loss"
   ]
  },
  {
   "attachments": {
    "Screenshot%202023-05-31%20at%2010.41.21%20AM.png": {
     "image/png": "[encoded data removed]"
    }
   },
   "cell_type": "markdown",
   "id": "b76b87e7",
   "metadata": {},
   "source": [
    "### Crossing Loss & Number of Crosses\n",
    "Crossing loss and number of crosses are evaluated on neighbouring quantiles only which is why we have final indices of (i+1) and (i+2) (same reason as tilted loss) and for loop range of (11-2=9) for 10 quantiles.\n",
    "\n",
    "![Screenshot%202023-05-31%20at%2010.41.21%20AM.png](attachment:Screenshot%202023-05-31%20at%2010.41.21%20AM.png)"
   ]
  },
  {
   "cell_type": "code",
   "execution_count": 8,
   "id": "7e91676c",
   "metadata": {},
   "outputs": [],
   "source": [
    "def crossing_loss(ŷ):\n",
    "    loss = 0.0 #crossing loss as defined in the paper\n",
    "    num_cross = 0.0\n",
    "    for i in range(len(ŷ[0,0,:])-2):\n",
    "        q = ŷ[:,:,i+1] - ŷ[:,:,i+2]\n",
    "        loss += np.sum(np.maximum(q,0))\n",
    "        num_cross += np.sum(q>0)\n",
    "    loss /= ŷ.shape[0]\n",
    "#     num_cross /= ŷ.shape[0]*ŷ.shape[1]*ŷ.shape[2]\n",
    "    return loss, num_cross"
   ]
  },
  {
   "cell_type": "markdown",
   "id": "674705fd",
   "metadata": {},
   "source": [
    "### Interval Coverage Percentage (ICP) & Mean Interval Length (MIL)\n",
    "ICP: the fraction of observations (y) that are within the prediction interval\n",
    "<br>MIL: the average length of the interval\n",
    "<br> (lower , upper) is the corresponding pair of predicted quantiles e.g. 5% and 95% quantiles, 10% and 90% quanatiles etc"
   ]
  },
  {
   "cell_type": "code",
   "execution_count": 9,
   "id": "26b18d61",
   "metadata": {},
   "outputs": [],
   "source": [
    "def eval_quantiles(lower, upper, y):\n",
    "    icp = np.mean((y > lower) & (y < upper))\n",
    "    mil = np.mean(np.maximum(0,upper-lower))\n",
    "    return icp,mil"
   ]
  },
  {
   "cell_type": "markdown",
   "id": "1192445a",
   "metadata": {},
   "source": [
    "### Errors (MSE, RMSE, MAE)\n",
    "Standard error functions evaluated on predicted means only. Therefore, the final index for $\\hat{y}$ is 0"
   ]
  },
  {
   "cell_type": "code",
   "execution_count": 10,
   "id": "f7b17ebf",
   "metadata": {},
   "outputs": [],
   "source": [
    "def eval_error(y, ŷ):\n",
    "    #y, ŷ: np.array() of same shape as defined in lossfn\n",
    "    r = np.abs(y-ŷ[:,:,0])\n",
    "    mse = np.mean(r*r)\n",
    "    rmse = np.sqrt(mse)\n",
    "    mae = np.mean(r)\n",
    "    return mse, rmse, mae"
   ]
  },
  {
   "cell_type": "markdown",
   "id": "361d3b8c",
   "metadata": {},
   "source": [
    "## Training Process\n",
    "### Model Initialization\n",
    "initializes weights for the model"
   ]
  },
  {
   "cell_type": "code",
   "execution_count": 11,
   "id": "e78a2927",
   "metadata": {},
   "outputs": [],
   "source": [
    "def init_weights(m):\n",
    "    if type(m) == nn.Linear:\n",
    "        nn.init.normal_(m.weight, std = 0.01)"
   ]
  },
  {
   "cell_type": "markdown",
   "id": "7be4de18",
   "metadata": {},
   "source": [
    "defines the model architecture and returns the model. Since ConvLSTM takes 2D inputs and produces 3D outputs, the inputs need to be flattened before computation and unflattened afterwards for MLP so that we could reuse the evaluation & loss functions."
   ]
  },
  {
   "cell_type": "code",
   "execution_count": 12,
   "id": "5dd67fdb",
   "metadata": {},
   "outputs": [],
   "source": [
    "#Initialize Model\n",
    "def init():\n",
    "    net = nn.Sequential(nn.Flatten(), \n",
    "                        nn.Linear(num_inputs,num_hidden1),     \n",
    "                        nn.ReLU(),                    \n",
    "                        nn.BatchNorm1d(num_hidden1),\n",
    "                        nn.Dropout(dropout),\n",
    "                        nn.Linear(num_hidden1,num_hidden2),\n",
    "                        nn.ReLU(),\n",
    "#                         nn.BatchNorm1d(num_hidden2),    \n",
    "#                         nn.Dropout(dropout),\n",
    "                        nn.Linear(num_hidden2,num_outputs),\n",
    "                        nn.Unflatten(1,(num_features, (1+qlen))))\n",
    "    net.apply(init_weights)\n",
    "    return net"
   ]
  },
  {
   "cell_type": "markdown",
   "id": "b0c9b813",
   "metadata": {},
   "source": [
    "### Train \n",
    "inputs data into the model to make predictions, evaluates loss value and makes adjustment to parameters, then returns loss value\n",
    "\n",
    "Reference: https://pytorch.org/tutorials/beginner/introyt/trainingyt.html\n",
    "\n",
    "\"The Training Loop\" & \"Per-Epoch Activity\""
   ]
  },
  {
   "cell_type": "code",
   "execution_count": 13,
   "id": "4a624b17",
   "metadata": {},
   "outputs": [],
   "source": [
    "#Train Model\n",
    "def train(model, train_iter, quantiles, loss_fn, optimizer, num_epochs = 100):\n",
    "    running_loss = 0\n",
    "    last_loss = 0\n",
    "    for i, data in enumerate(train_iter):\n",
    "        inputs, labels = data\n",
    "        optimizer.zero_grad()\n",
    "        outputs = model(inputs)\n",
    "        loss = loss_fn(quantiles, labels, outputs)\n",
    "        loss.backward()\n",
    "        optimizer.step()\n",
    "        running_loss += loss.item()\n",
    "        last_loss = loss.item()\n",
    "    return last_loss"
   ]
  },
  {
   "cell_type": "markdown",
   "id": "85bbcc15",
   "metadata": {},
   "source": [
    "### Iteration & Validation\n",
    "trains the model, validates on validation data, saves the best performing model and returns the prediction using the best model"
   ]
  },
  {
   "cell_type": "code",
   "execution_count": 14,
   "id": "90f255e7",
   "metadata": {},
   "outputs": [],
   "source": [
    "def iter():\n",
    "    best_vloss = 1e9\n",
    "#     animator = d2l.Animator(xlabel = \"epoch\", ylabel = \"loss\", xlim = [1,n_epochs], ylim = [0,1], legend = [\"train\", \"val\"])\n",
    "    for epoch in range(n_epochs):\n",
    "        net.train(True)\n",
    "        avg_loss = train(net, train_iter, quantiles, lossfn, optimizer, num_epochs = n_epochs)\n",
    "        net.train(False)\n",
    "        running_vloss = 0.0\n",
    "        for i, vdata in enumerate(val_iter):\n",
    "            vinputs, vlabels = vdata\n",
    "            voutputs =  net(vinputs)\n",
    "            vloss = lossfn(quantiles, vlabels, voutputs)\n",
    "            running_vloss += vloss\n",
    "        avg_vloss = float(running_vloss / (i+1))\n",
    "#         if epoch % (n_epochs/20) == 0:\n",
    "#             animator.add(epoch +1, (avg_loss, avg_vloss))\n",
    "        if avg_vloss < best_vloss:\n",
    "            best_vloss = avg_vloss\n",
    "            torch.save(net, \"model_best_state\")\n",
    "    model = torch.load(\"model_best_state\")\n",
    "    pred = model(X_val).detach().numpy()\n",
    "    return pred"
   ]
  },
  {
   "cell_type": "markdown",
   "id": "e27a4a23",
   "metadata": {},
   "source": [
    "### Reiterate & Evaluate Errors\n",
    "reiterates a few times due to randomized parameter initialization and stores errors values for computation"
   ]
  },
  {
   "cell_type": "code",
   "execution_count": 15,
   "id": "bf483f90",
   "metadata": {},
   "outputs": [
    {
     "name": "stdout",
     "output_type": "stream",
     "text": [
      "... finished running iter 1\n",
      "... finished running iter 2\n",
      "... finished running iter 3\n",
      "... finished running iter 4\n",
      "... finished running iter 5\n",
      "... finished running iter 6\n",
      "... finished running iter 7\n",
      "... finished running iter 8\n",
      "... finished running iter 9\n",
      "... finished running iter 10\n",
      "... finished running iter 11\n",
      "... finished running iter 12\n",
      "... finished running iter 13\n",
      "... finished running iter 14\n",
      "... finished running iter 15\n",
      "... finished running iter 16\n",
      "... finished running iter 17\n",
      "... finished running iter 18\n",
      "... finished running iter 19\n",
      "... finished running iter 20\n",
      "... finished running iter 21\n",
      "... finished running iter 22\n",
      "... finished running iter 23\n",
      "... finished running iter 24\n",
      "... finished running iter 25\n",
      "... finished running iter 26\n",
      "... finished running iter 27\n",
      "... finished running iter 28\n",
      "... finished running iter 29\n",
      "... finished running iter 30\n"
     ]
    }
   ],
   "source": [
    "#Iterate \n",
    "cl,tl,err,icp,mil = [],[],[],[[] for _ in range(qlen//2)],[[] for _ in range(qlen//2)]\n",
    "for k in range(num_iter):\n",
    "    net = init()\n",
    "    optimizer = torch.optim.SGD(net.parameters(), lr = lr)\n",
    "    pred = iter()\n",
    "    cl.append(crossing_loss(pred))\n",
    "    tl.append(tilted_loss(quantiles,Y_val,pred))\n",
    "    err.append(eval_error(Y_val,pred))\n",
    "    print(\"... finished running iter\",k+1)\n",
    "    for i in range(qlen//2):\n",
    "        t1,t2 = eval_quantiles(pred[:,:,i+1],pred[:,:,qlen-i],Y_val)\n",
    "        icp[i].append(t1)\n",
    "        mil[i].append(t2)"
   ]
  },
  {
   "cell_type": "markdown",
   "id": "53ac574d",
   "metadata": {},
   "source": [
    "### Print Mean of Errors"
   ]
  },
  {
   "cell_type": "code",
   "execution_count": 16,
   "id": "4dcda1e6",
   "metadata": {},
   "outputs": [],
   "source": [
    "#Evaluate Errors\n",
    "def print_error(cl, tl, err, icp, mil):\n",
    "    print(\"Crossing Loss:\", np.mean([y[0] for y in cl]), \", Number of Crosses:\", np.mean([y[1] for y in cl]))\n",
    "    print(\"MSE:\",np.mean([y[0] for y in err]), \"RMSE:\", np.mean([y[1] for y in err]),\"MAE:\", np.mean([y[2] for y in err]))\n",
    "    print(\"Tilted loss:\", np.mean(tl))\n",
    "    print(\"Prediction Intervals:\")\n",
    "    for i in range(qlen//2):\n",
    "        print(round((quantiles[qlen-i-1]-quantiles[i])*100),\"% ICP & MIL:\",round(np.mean(icp[i]),6),round(np.mean(mil[i]),6))\n",
    "#Test data will be touched after everything is done i.e. tuning hyperparameters & adjusting model architecture"
   ]
  },
  {
   "cell_type": "code",
   "execution_count": 17,
   "id": "86d2b055",
   "metadata": {},
   "outputs": [
    {
     "name": "stdout",
     "output_type": "stream",
     "text": [
      "Crossing Loss: 0.011329531307021778 , Number of Crosses: 13583.733333333334\n",
      "MSE: 4.651343e-05 RMSE: 0.006819934 MAE: 0.00410185\n",
      "Tilted loss: 0.18695144627491628\n",
      "Prediction Intervals:\n",
      "90 % ICP & MIL: 0.944179 0.022756\n",
      "80 % ICP & MIL: 0.844054 0.015072\n",
      "60 % ICP & MIL: 0.627289 0.008444\n",
      "40 % ICP & MIL: 0.419351 0.004837\n",
      "20 % ICP & MIL: 0.223256 0.002198\n"
     ]
    }
   ],
   "source": [
    "print_error(cl, tl, err, icp, mil)"
   ]
  },
  {
   "cell_type": "markdown",
   "id": "3c09c4b8",
   "metadata": {},
   "source": [
    "### Dummy Prediction\n",
    "creates a dummy prediction of 0's for comparison"
   ]
  },
  {
   "cell_type": "code",
   "execution_count": 18,
   "id": "b45d50ee",
   "metadata": {},
   "outputs": [],
   "source": [
    "#Dummy Prediction for Comparison\n",
    "cl,tl,err,icp,mil = [],[],[],[[] for _ in range(qlen//2)],[[] for _ in range(qlen//2)]\n",
    "p = np.array([[[0 for _ in range(pred.shape[2])] for _ in range(pred.shape[1])] for _ in range(pred.shape[0])])\n",
    "cl.append(crossing_loss(p))\n",
    "tl.append(tilted_loss(quantiles,Y_val,p))\n",
    "err.append(eval_error(Y_val,p))\n",
    "for i in range(qlen//2):\n",
    "    t1,t2 = eval_quantiles(p[:,:,i+1],p[:,:,qlen-i],Y_val)\n",
    "    icp[i].append(t1)\n",
    "    mil[i].append(t2)"
   ]
  },
  {
   "cell_type": "code",
   "execution_count": 19,
   "id": "845b6f3c",
   "metadata": {},
   "outputs": [
    {
     "name": "stdout",
     "output_type": "stream",
     "text": [
      "Crossing Loss: 0.0 , Number of Crosses: 0.0\n",
      "MSE: 4.343471827510494e-05 RMSE: 0.00659050212617407 MAE: 0.0036727230039435275\n",
      "Tilted loss: 0.25709061027604696\n",
      "Prediction Intervals:\n",
      "90 % ICP & MIL: 0.0 0.0\n",
      "80 % ICP & MIL: 0.0 0.0\n",
      "60 % ICP & MIL: 0.0 0.0\n",
      "40 % ICP & MIL: 0.0 0.0\n",
      "20 % ICP & MIL: 0.0 0.0\n"
     ]
    }
   ],
   "source": [
    "print_error(cl, tl, err, icp, mil)"
   ]
  },
  {
   "cell_type": "markdown",
   "id": "ff6d2ef7",
   "metadata": {},
   "source": [
    "### Some Observations\n",
    "1. ReLU seems to outperform other activation functions\n",
    "2. For MLP, the tilted loss is lower than dummy predictions but other error values (MSE, RMSE, MAE) are higher. If the model is actually making somewhat passable predictions the error values should be lower?\n",
    "3. When we use a high value for dropout e.g. 0.7, it seems like the model stops making predictions but produces similar outputs everyday\n",
    "\n",
    "some experiments below"
   ]
  },
  {
   "cell_type": "code",
   "execution_count": 20,
   "id": "3ef04097",
   "metadata": {},
   "outputs": [
    {
     "data": {
      "text/plain": [
       "5362"
      ]
     },
     "execution_count": 20,
     "metadata": {},
     "output_type": "execute_result"
    }
   ],
   "source": [
    "np.sum(pred[:,:,0]*Y_val>0)"
   ]
  },
  {
   "cell_type": "markdown",
   "id": "ead7228f",
   "metadata": {},
   "source": [
    "the cell above shows how many signs are predicted correctly by the model, but it seems like it's always getting around 1/2 only according to the cell below"
   ]
  },
  {
   "cell_type": "code",
   "execution_count": 21,
   "id": "5186392f",
   "metadata": {},
   "outputs": [
    {
     "data": {
      "text/plain": [
       "11200"
      ]
     },
     "execution_count": 21,
     "metadata": {},
     "output_type": "execute_result"
    }
   ],
   "source": [
    "Y_val.shape[0]*Y_val.shape[1]"
   ]
  },
  {
   "cell_type": "code",
   "execution_count": 24,
   "id": "88bd06ef",
   "metadata": {},
   "outputs": [
    {
     "name": "stdout",
     "output_type": "stream",
     "text": [
      "327\n"
     ]
    }
   ],
   "source": [
    "print(np.sum(pred[:,1,0]>0))"
   ]
  },
  {
   "cell_type": "code",
   "execution_count": 25,
   "id": "434664eb",
   "metadata": {},
   "outputs": [
    {
     "name": "stdout",
     "output_type": "stream",
     "text": [
      "419\n"
     ]
    }
   ],
   "source": [
    "print(np.sum(Y_val[:,1]>0))"
   ]
  },
  {
   "cell_type": "markdown",
   "id": "d6146b05",
   "metadata": {},
   "source": [
    "we get similar result when we look at a particular securities, the model isn't even close to getting the right amount of positive returns\n",
    "conclusion: it feels like the model is making random/anyhow predictions, there might be some critical mistakes"
   ]
  }
 ],
 "metadata": {
  "kernelspec": {
   "display_name": "Python 3 (ipykernel)",
   "language": "python",
   "name": "python3"
  },
  "language_info": {
   "codemirror_mode": {
    "name": "ipython",
    "version": 3
   },
   "file_extension": ".py",
   "mimetype": "text/x-python",
   "name": "python",
   "nbconvert_exporter": "python",
   "pygments_lexer": "ipython3",
   "version": "3.9.16"
  }
 },
 "nbformat": 4,
 "nbformat_minor": 5
}
