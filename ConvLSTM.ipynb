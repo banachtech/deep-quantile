{
 "cells": [
  {
   "cell_type": "markdown",
   "id": "e0282741",
   "metadata": {},
   "source": [
    "# ConvLSTM Implementation\n",
    "The overall flow is similar to MLP implementation, hyperparameters & model structure are the main differences.\n"
   ]
  },
  {
   "cell_type": "code",
   "execution_count": 1,
   "id": "df9ebf5e",
   "metadata": {},
   "outputs": [],
   "source": [
    "import torch\n",
    "from torch import nn\n",
    "import numpy as np\n",
    "import pandas as pd\n",
    "from d2l import torch as d2l"
   ]
  },
  {
   "cell_type": "markdown",
   "id": "259726b4",
   "metadata": {},
   "source": [
    "## Self-defined ConvLSTM Layer\n",
    "description to be added\n",
    "\n",
    "parameter initialization is done here\n",
    "\n",
    "reference: https://github.com/automan000/Convolutional_LSTM_PyTorch/blob/master/convolution_lstm.py#L15"
   ]
  },
  {
   "cell_type": "code",
   "execution_count": 2,
   "id": "f7c86fec",
   "metadata": {},
   "outputs": [],
   "source": [
    "#Original ConvLSTM Paper with extra terms\n",
    "class ConvLSTMCell(nn.Module):\n",
    "    def __init__(self, input_channels, hidden_channels, kernel_size):\n",
    "        super().__init__()\n",
    "        assert hidden_channels % 2 == 0\n",
    "        self.input_channels = input_channels\n",
    "        self.hidden_channels = hidden_channels\n",
    "        self.kernel_size = kernel_size\n",
    "        self.num_features = 3#check this one\n",
    "        self.padding = (kernel_size - 1)//2\n",
    "        \n",
    "        self.Wxi = nn.Conv1d(self.input_channels, self.hidden_channels, self.kernel_size, 1, self.padding, bias = True)\n",
    "        self.Whi = nn.Conv1d(self.hidden_channels, self.hidden_channels, self.kernel_size, 1, self.padding, bias = False)\n",
    "        self.Wxf = nn.Conv1d(self.input_channels, self.hidden_channels, self.kernel_size, 1, self.padding, bias = True)\n",
    "        self.Whf = nn.Conv1d(self.hidden_channels, self.hidden_channels, self.kernel_size, 1, self.padding, bias = False)\n",
    "        self.Wxc = nn.Conv1d(self.input_channels, self.hidden_channels, self.kernel_size, 1, self.padding, bias = True)\n",
    "        self.Whc = nn.Conv1d(self.hidden_channels, self.hidden_channels, self.kernel_size, 1, self.padding, bias = False)\n",
    "        self.Wxo = nn.Conv1d(self.input_channels, self.hidden_channels, self.kernel_size, 1, self.padding, bias = True)\n",
    "        self.Who = nn.Conv1d(self.hidden_channels, self.hidden_channels, self.kernel_size, 1, self.padding, bias = False)\n",
    "        self.Wci = None\n",
    "        self.Wcf = None\n",
    "        self.Wco = None\n",
    "        #parameter initialization\n",
    "        for m in self.modules():\n",
    "            if isinstance(m, nn.Conv1d):\n",
    "                m.weight = nn.init.normal_(m.weight, std=0.01)\n",
    "                if m.bias is not None:\n",
    "                    m.bias = nn.init.zeros_(m.bias)\n",
    "    def forward(self, x, h, c):\n",
    "        i_t = torch.sigmoid(self.Wxi(x) + self.Whi(h) + c*self.Wci)\n",
    "        f_t = torch.sigmoid(self.Wxf(x) + self.Whf(h) + c*self.Wcf)\n",
    "        c_t = f_t*c + i_t*torch.tanh(self.Wxc(x) + self.Whc(h))\n",
    "        o_t = torch.sigmoid(self.Wxo(x) + self.Who(h) + c_t*self.Wco)\n",
    "        h_t = o_t*torch.tanh(c_t)\n",
    "        return h_t, c_t\n",
    "    def init_hidden(self, batch_size, hidden, size):\n",
    "        self.Wci = nn.Parameter(torch.zeros(1, hidden, size))\n",
    "        self.Wcf = nn.Parameter(torch.zeros(1, hidden, size))\n",
    "        self.Wco = nn.Parameter(torch.zeros(1, hidden, size))\n",
    "        return (torch.zeros(batch_size, hidden, size), torch.zeros(batch_size, hidden, size))\n",
    "        \n",
    "class ConvLSTM(nn.Module):\n",
    "    def __init__(self, input_channels, hidden_channels, kernel_size, step = 1, effective_step = [1]):\n",
    "        super().__init__()\n",
    "        self.channels = [input_channels] + hidden_channels\n",
    "        self.kernel_size = kernel_size\n",
    "        self.num_layers = len(hidden_channels)\n",
    "        self.step = step\n",
    "        self.effective_step = effective_step\n",
    "        self._all_layers = []\n",
    "        for i in range(self.num_layers):\n",
    "            name = \"cell{}\".format(i)\n",
    "            cell = ConvLSTMCell(self.channels[i], self.channels[i+1], self.kernel_size)\n",
    "            setattr(self, name, cell)\n",
    "            self._all_layers.append(cell)\n",
    "    def forward(self, input):\n",
    "        internal_state = []\n",
    "        outputs = []\n",
    "        for step in range(self.step):\n",
    "            x = input\n",
    "            for i in range(self.num_layers):\n",
    "                name = \"cell{}\".format(i)\n",
    "                if step == 0:\n",
    "                    bsize,_,size = x.size()\n",
    "                    h,c = getattr(self, name).init_hidden(batch_size = bsize, hidden = self.channels[i+1], size = size)\n",
    "                    internal_state.append((h,c))\n",
    "                h,c = internal_state[i]\n",
    "                x, new_c = getattr(self, name)(x, h, c)\n",
    "                internal_state[i] = x, new_c\n",
    "            if step in self.effective_step:\n",
    "                outputs.append(x)\n",
    "        return x#outputs, (x, new_c)"
   ]
  },
  {
   "cell_type": "markdown",
   "id": "1bb0c2ea",
   "metadata": {},
   "source": [
    "## Hyperparameters\n",
    "using less epochs (30) compared to MLP (100) due to slower computation of ConvLSTM\n",
    "\n",
    "using longer lag period (40 compared to 20) (I saw a guide stating that it's a good practice to have no. of channels in decreasing order)"
   ]
  },
  {
   "cell_type": "code",
   "execution_count": 3,
   "id": "4bbf3a25",
   "metadata": {},
   "outputs": [],
   "source": [
    "#Config Parameters\n",
    "quantiles = [0.05, 0.10, 0.20, 0.30, 0.40, 0.60, 0.70, 0.80, 0.90, 0.95]\n",
    "qlen = len(quantiles)\n",
    "i_train = 2400\n",
    "i_val = i_train + 800\n",
    "i_test = i_val + 1600 \n",
    "\n",
    "batch_size, lr, n_epochs, num_iter = 128, 0.001, 30, 30\n",
    "lag_period, num_features, forecast_horizon = 40, 14, 2\n",
    "num_inputs, num_outputs, num_hidden = lag_period, 1+qlen, 30\n",
    "# dropout= 0.2\n",
    "kernel_size = 3"
   ]
  },
  {
   "cell_type": "markdown",
   "id": "bea8734e",
   "metadata": {},
   "source": [
    "## Load & Split Data\n",
    "same as MLP"
   ]
  },
  {
   "cell_type": "code",
   "execution_count": 4,
   "id": "30f340a2",
   "metadata": {},
   "outputs": [],
   "source": [
    "#Load & Split Data\n",
    "data = pd.read_csv(\"/Users/lixiang/Desktop/DeepJMQR Project/data.csv\")\n",
    "alldata = np.array(data)[:,1:].astype(\"float32\")\n",
    "torch.set_default_dtype(torch.float32)\n",
    "X = []\n",
    "for i in range(lag_period, len(data)):\n",
    "    X.append(alldata[i-lag_period:i])\n",
    "X = torch.tensor(np.array(X))\n",
    "Y = alldata[lag_period+forecast_horizon:]\n",
    "\n",
    "X_train, Y_train = X[:i_train], torch.tensor(Y[:i_train])\n",
    "X_val, Y_val = X[i_train:i_val], Y[i_train:i_val]\n",
    "X_test, Y_test = X[i_val:i_test], Y[i_val:i_test]\n",
    "train_iter = torch.utils.data.DataLoader(list(zip(X_train,Y_train)), batch_size=batch_size, shuffle = True)\n",
    "val_iter = torch.utils.data.DataLoader(list(zip(X_val,Y_val)), batch_size=batch_size, shuffle = False)"
   ]
  },
  {
   "cell_type": "markdown",
   "id": "d38328ff",
   "metadata": {},
   "source": [
    "## Evaluation & Loss Functions (per sample)\n",
    "same as MLP, made some changes there so that the functions work here"
   ]
  },
  {
   "cell_type": "code",
   "execution_count": 5,
   "id": "159f6181",
   "metadata": {},
   "outputs": [],
   "source": [
    "#Evaluation & Loss Functions\n",
    "def lossfn(τ, y, ŷ):\n",
    "    loss = torch.sum(torch.square(y-ŷ[:,0,:]))\n",
    "    for i in range(len(τ)):\n",
    "        q = τ[i]\n",
    "        r = y - ŷ[:,i+1,:]\n",
    "        loss += torch.sum(q*r - r*(r<0))\n",
    "    loss /= y.shape[0]\n",
    "    return loss\n",
    "\n",
    "#for evaluation: remember to turn tensors into np.array()\n",
    "def tilted_loss(τ, y, ŷ):\n",
    "    loss = 0.0\n",
    "    for i in range(len(τ)):\n",
    "        q = τ[i]\n",
    "        r = y - ŷ[:,i+1,:]\n",
    "        loss += np.sum(q*r - r*(r<0))\n",
    "    loss /= y.shape[0]\n",
    "    return loss\n",
    "\n",
    "def crossing_loss(ŷ):\n",
    "    loss = 0.0 #crossing loss as defined in the paper\n",
    "    num_cross = 0.0\n",
    "    for i in range(len(ŷ[0,:,0])-2):\n",
    "        q = ŷ[:,i+1,:] - ŷ[:,i+2,:]\n",
    "        loss += np.sum(np.maximum(q,0))\n",
    "        num_cross += np.sum(q>0)\n",
    "    loss /= ŷ.shape[0]\n",
    "    num_cross /= ŷ.shape[0]\n",
    "    return loss, num_cross\n",
    "\n",
    "def eval_quantiles(lower, upper, y):\n",
    "    icp = np.mean((y > lower) & (y < upper))\n",
    "    mil = np.mean(np.maximum(0,upper-lower))\n",
    "    return icp,mil\n",
    "\n",
    "def eval_error(y, ŷ):\n",
    "    #y, ŷ: np.array() of same shape as defined in lossfn\n",
    "    r = np.abs(y-ŷ[:,0,:])\n",
    "    mse = np.mean(r*r)\n",
    "    rmse = np.sqrt(mse)\n",
    "    mae = np.mean(r)\n",
    "    return mse, rmse, mae"
   ]
  },
  {
   "attachments": {
    "Screenshot%202023-06-05%20at%204.18.05%20PM.png": {
     "image/png": "[encoded data removed]"
    }
   },
   "cell_type": "markdown",
   "id": "0cee3dcf",
   "metadata": {},
   "source": [
    "## Model Initialization\n",
    "on top of ConvLSTM, there's a final output layer which, according to DeepJMQR's author, is equivalent to a 1x1 linear convolutional layer\n",
    "\n",
    "initialize the output layer parameters here\n",
    "\n",
    "to do: try adding more/different layers (yet to try every possibilities)\n",
    "![Screenshot%202023-06-05%20at%204.18.05%20PM.png](attachment:Screenshot%202023-06-05%20at%204.18.05%20PM.png)"
   ]
  },
  {
   "cell_type": "code",
   "execution_count": 6,
   "id": "9524c187",
   "metadata": {},
   "outputs": [],
   "source": [
    "def init_module(m):\n",
    "    nn.init.normal_(m.weight, std=0.01)\n",
    "    nn.init.zeros_(m.bias)\n",
    "#Initialize Model\n",
    "def init():\n",
    "    net = nn.Sequential(ConvLSTM(num_inputs, [num_hidden], kernel_size,step=1,effective_step=[1]),\n",
    "                        nn.Conv1d(num_hidden,num_outputs,1, bias = True))\n",
    "    net[1].apply(init_module)\n",
    "    return net"
   ]
  },
  {
   "cell_type": "markdown",
   "id": "d7f5d1b0",
   "metadata": {},
   "source": [
    "## Training, Iteration & Validation\n",
    "same as MLP"
   ]
  },
  {
   "cell_type": "code",
   "execution_count": 7,
   "id": "c06a7ba1",
   "metadata": {},
   "outputs": [],
   "source": [
    "#Train Model\n",
    "def train(model, train_iter, quantiles, loss_fn, optimizer, num_epochs = 100):\n",
    "    running_loss = 0\n",
    "    last_loss = 0\n",
    "    for i, data in enumerate(train_iter):\n",
    "        inputs, labels = data\n",
    "        optimizer.zero_grad()\n",
    "        outputs = model(inputs)\n",
    "        loss = loss_fn(quantiles, labels, outputs)\n",
    "        loss.backward()\n",
    "        optimizer.step()\n",
    "        running_loss += loss.item()\n",
    "        last_loss = loss.item()\n",
    "    return last_loss\n",
    "\n",
    "def iter():\n",
    "#     animator = d2l.Animator(xlabel = \"epoch\", ylabel = \"loss\", xlim = [1,n_epochs], ylim = [0,1], legend = [\"train\", \"val\"])\n",
    "    best_vloss = 1e9\n",
    "    for epoch in range(n_epochs):\n",
    "        net.train(True)\n",
    "        avg_loss = train(net, train_iter, quantiles, lossfn, optimizer, num_epochs = n_epochs)\n",
    "        net.train(False)\n",
    "        running_vloss = 0.0\n",
    "        for i, vdata in enumerate(val_iter):\n",
    "            vinputs, vlabels = vdata\n",
    "            voutputs =  net(vinputs)\n",
    "            vloss = lossfn(quantiles, vlabels, voutputs)\n",
    "            running_vloss += vloss\n",
    "        avg_vloss = float(running_vloss / (i+1))\n",
    "#         if epoch % (n_epochs/20) == 0:\n",
    "#         animator.add(epoch+1, (avg_loss, avg_vloss))\n",
    "        if avg_vloss < best_vloss:\n",
    "            best_vloss = avg_vloss\n",
    "            torch.save(net, \"model_best_state_ConvLSTM\")\n",
    "    model = torch.load(\"model_best_state_ConvLSTM\")\n",
    "    pred = model(X_val).detach().numpy()\n",
    "    return pred"
   ]
  },
  {
   "cell_type": "markdown",
   "id": "38a1d292",
   "metadata": {},
   "source": [
    "## Reiterate & Evaluate Errors\n",
    "same as MLP"
   ]
  },
  {
   "cell_type": "code",
   "execution_count": 8,
   "id": "c0aad8bf",
   "metadata": {},
   "outputs": [
    {
     "name": "stdout",
     "output_type": "stream",
     "text": [
      "... finished running iter 1\n",
      "... finished running iter 2\n",
      "... finished running iter 3\n",
      "... finished running iter 4\n",
      "... finished running iter 5\n",
      "... finished running iter 6\n",
      "... finished running iter 7\n",
      "... finished running iter 8\n",
      "... finished running iter 9\n",
      "... finished running iter 10\n",
      "... finished running iter 11\n",
      "... finished running iter 12\n",
      "... finished running iter 13\n",
      "... finished running iter 14\n",
      "... finished running iter 15\n",
      "... finished running iter 16\n",
      "... finished running iter 17\n",
      "... finished running iter 18\n",
      "... finished running iter 19\n",
      "... finished running iter 20\n",
      "... finished running iter 21\n",
      "... finished running iter 22\n",
      "... finished running iter 23\n",
      "... finished running iter 24\n",
      "... finished running iter 25\n",
      "... finished running iter 26\n",
      "... finished running iter 27\n",
      "... finished running iter 28\n",
      "... finished running iter 29\n",
      "... finished running iter 30\n"
     ]
    }
   ],
   "source": [
    "#Iterate \n",
    "cl,tl,err,icp,mil = [],[],[],[[] for _ in range(qlen//2)],[[] for _ in range(qlen//2)]\n",
    "for k in range(num_iter):\n",
    "    net = init()\n",
    "    optimizer = torch.optim.Adam(net.parameters(), lr = lr)\n",
    "    pred = iter()\n",
    "    cl.append(crossing_loss(pred))\n",
    "    tl.append(tilted_loss(quantiles,Y_val,pred))\n",
    "    err.append(eval_error(Y_val,pred))\n",
    "    print(\"... finished running iter\",k+1)\n",
    "    for i in range(qlen//2):\n",
    "        t1,t2 = eval_quantiles(pred[:,i+1,:],pred[:,qlen-i,:],Y_val)\n",
    "        icp[i].append(t1)\n",
    "        mil[i].append(t2)"
   ]
  },
  {
   "cell_type": "markdown",
   "id": "4440b057",
   "metadata": {},
   "source": [
    "## Print Mean of Errors"
   ]
  },
  {
   "cell_type": "code",
   "execution_count": 9,
   "id": "3c790368",
   "metadata": {},
   "outputs": [],
   "source": [
    "#Evaluate Errors\n",
    "def print_error(cl, tl, err, icp, mil):\n",
    "    print(\"Crossing Loss:\", np.mean([y[0] for y in cl]), \", Number of Crosses:\", np.mean([y[1] for y in cl]))\n",
    "    print(\"MSE:\",np.mean([y[0] for y in err]), \"RMSE:\", np.mean([y[1] for y in err]),\"MAE:\", np.mean([y[2] for y in err]))\n",
    "    print(\"Tilted loss:\", np.mean(tl))\n",
    "    print(\"Prediction Intervals:\")\n",
    "    for i in range(qlen//2):\n",
    "        print(round((quantiles[qlen-i-1]-quantiles[i])*100),\"% ICP & MIL:\",round(np.mean(icp[i]),6),round(np.mean(mil[i]),6))"
   ]
  },
  {
   "cell_type": "code",
   "execution_count": 10,
   "id": "14a4fcbc",
   "metadata": {
    "scrolled": true
   },
   "outputs": [
    {
     "name": "stdout",
     "output_type": "stream",
     "text": [
      "Crossing Loss: 0.0001071317368441669 , Number of Crosses: 0.44195833333333334\n",
      "MSE: 4.5218203e-05 RMSE: 0.0067244144 MAE: 0.0037907925\n",
      "Tilted loss: 0.20420269016424814\n",
      "Prediction Intervals:\n",
      "90 % ICP & MIL: 0.93947 0.025486\n",
      "80 % ICP & MIL: 0.85094 0.014391\n",
      "60 % ICP & MIL: 0.621988 0.005865\n",
      "40 % ICP & MIL: 0.396604 0.002436\n",
      "20 % ICP & MIL: 0.190997 0.000834\n"
     ]
    }
   ],
   "source": [
    "print_error(cl, tl, err, icp, mil)"
   ]
  },
  {
   "attachments": {},
   "cell_type": "markdown",
   "id": "2ec35827",
   "metadata": {},
   "source": [
    "## Some Observations\n",
    "MLP Errors (per sample) for Comparison:<br>\n",
    "Crossing Loss: 0.016875776926385398 , Number of Crosses: 18.678<br>\n",
    "MSE: 4.5187422e-05 RMSE: 0.0067216274 MAE: 0.0038696693<br>\n",
    "Tilted loss: 0.186080036620299<br>\n",
    "Prediction Intervals:<br>\n",
    "90 % ICP & MIL: 0.907583 0.018095<br>\n",
    "80 % ICP & MIL: 0.796179 0.012799<br>\n",
    "60 % ICP & MIL: 0.586277 0.00775<br>\n",
    "40 % ICP & MIL: 0.399134 0.004641<br>\n",
    "20 % ICP & MIL: 0.20622 0.002238<br>\n",
    "\n",
    "1. ConvLSTM causes slightly higher tilted loss but significantly lowers crossing loss which aligns with the author's claim on page 10 <br>\n",
    "\"there is a trade-off in place between the quantity of the quantiles (according to the tilted loss) and addressing the quantile crossings problem (crossing loss) by constraining the flexibility of the quantile functions via multi-task learning\"<br>\n",
    "2. similar error values (RMSE & MAE): still higher than errors from the dummy prediction<br>\n",
    "3. similar performance in prediction intervals (none of which clearly dominates the other)"
   ]
  },
  {
   "cell_type": "markdown",
   "id": "c56374de",
   "metadata": {},
   "source": [
    "## Dummy Prediction"
   ]
  },
  {
   "cell_type": "code",
   "execution_count": 11,
   "id": "b45d50ee",
   "metadata": {},
   "outputs": [],
   "source": [
    "#Dummy Prediction for Comparison\n",
    "cl,tl,err,icp,mil = [],[],[],[[] for _ in range(qlen//2)],[[] for _ in range(qlen//2)]\n",
    "p = np.array([[[0 for _ in range(pred.shape[2])] for _ in range(pred.shape[1])] for _ in range(pred.shape[0])])\n",
    "cl.append(crossing_loss(p))\n",
    "tl.append(tilted_loss(quantiles,Y_val,p))\n",
    "err.append(eval_error(Y_val,p))\n",
    "for i in range(qlen//2):\n",
    "    t1,t2 = eval_quantiles(p[:,i+1,:],p[:,qlen-i],Y_val)\n",
    "    icp[i].append(t1)\n",
    "    mil[i].append(t2)"
   ]
  },
  {
   "cell_type": "code",
   "execution_count": 12,
   "id": "845b6f3c",
   "metadata": {
    "scrolled": true
   },
   "outputs": [
    {
     "name": "stdout",
     "output_type": "stream",
     "text": [
      "Crossing Loss: 0.0 , Number of Crosses: 0.0\n",
      "MSE: 4.4329104918412386e-05 RMSE: 0.006658010582629948 MAE: 0.0037047623680851135\n",
      "Tilted loss: 0.259333365765958\n",
      "Prediction Intervals:\n",
      "90 % ICP & MIL: 0.0 0.0\n",
      "80 % ICP & MIL: 0.0 0.0\n",
      "60 % ICP & MIL: 0.0 0.0\n",
      "40 % ICP & MIL: 0.0 0.0\n",
      "20 % ICP & MIL: 0.0 0.0\n"
     ]
    }
   ],
   "source": [
    "print_error(cl, tl, err, icp, mil)"
   ]
  },
  {
   "cell_type": "markdown",
   "id": "78326063",
   "metadata": {},
   "source": [
    "### Some experiments\n",
    "I believe that getting the signs correctly is probably the most important thing when predicting returns but the model seems to only get around half of the signs correctly (in the cell below), which doesn't seem to be better than MLP"
   ]
  },
  {
   "cell_type": "code",
   "execution_count": 13,
   "id": "7cc5d8a6",
   "metadata": {},
   "outputs": [
    {
     "data": {
      "text/plain": [
       "0.4976785714285714"
      ]
     },
     "execution_count": 13,
     "metadata": {},
     "output_type": "execute_result"
    }
   ],
   "source": [
    "np.mean(pred[:,0,:]*Y_val>0)"
   ]
  },
  {
   "cell_type": "code",
   "execution_count": 14,
   "id": "ce0ab782",
   "metadata": {},
   "outputs": [
    {
     "name": "stdout",
     "output_type": "stream",
     "text": [
      "0.5415909090909091\n",
      "0.5157142857142857\n"
     ]
    }
   ],
   "source": [
    "print(np.mean(pred[:,:,0]>0))\n",
    "print(np.mean(Y_val[:,:]>0))"
   ]
  }
 ],
 "metadata": {
  "kernelspec": {
   "display_name": "Python 3 (ipykernel)",
   "language": "python",
   "name": "python3"
  },
  "language_info": {
   "codemirror_mode": {
    "name": "ipython",
    "version": 3
   },
   "file_extension": ".py",
   "mimetype": "text/x-python",
   "name": "python",
   "nbconvert_exporter": "python",
   "pygments_lexer": "ipython3",
   "version": "3.9.16"
  }
 },
 "nbformat": 4,
 "nbformat_minor": 5
}
