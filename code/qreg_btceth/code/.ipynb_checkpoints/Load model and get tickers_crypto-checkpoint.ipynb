{
 "cells": [
  {
   "cell_type": "code",
   "execution_count": 14,
   "id": "ee60c724",
   "metadata": {
    "scrolled": true
   },
   "outputs": [
    {
     "name": "stderr",
     "output_type": "stream",
     "text": [
      "WARNING: replacing module utils_load_data_crypto.\n",
      "WARNING: replacing module utils_load_crypto.\n"
     ]
    },
    {
     "data": {
      "text/plain": [
       "Main.utils_load_crypto"
      ]
     },
     "execution_count": 14,
     "metadata": {},
     "output_type": "execute_result"
    }
   ],
   "source": [
    "using BSON: @load\n",
    "using Flux, CSV, DataFrames, Statistics, Random\n",
    "\n",
    "include(\"Utils-quantile-scrape-and-process-data-cypto.jl\")\n",
    "include(\"Utils-quantile-load-model_crypto.jl\")"
   ]
  },
  {
   "cell_type": "code",
   "execution_count": 15,
   "id": "474440a5",
   "metadata": {},
   "outputs": [
    {
     "data": {
      "text/plain": [
       "\"/Users/cpu2/Downloads/qreg_btceth/code\""
      ]
     },
     "execution_count": 15,
     "metadata": {},
     "output_type": "execute_result"
    }
   ],
   "source": [
    "pwd()"
   ]
  },
  {
   "cell_type": "code",
   "execution_count": 16,
   "id": "01229162",
   "metadata": {
    "scrolled": true
   },
   "outputs": [],
   "source": [
    "df = utils_load_data_crypto.combined_data();"
   ]
  },
  {
   "cell_type": "code",
   "execution_count": 17,
   "id": "469296a5",
   "metadata": {},
   "outputs": [],
   "source": [
    "dir = \"../data/\"\n",
    "\n",
    "hp = Dict(\n",
    "    \"dir\" => dir,\n",
    "    \"data\" => df,\n",
    "    );\n"
   ]
  },
  {
   "cell_type": "code",
   "execution_count": 18,
   "id": "3b623bc9",
   "metadata": {
    "scrolled": true
   },
   "outputs": [
    {
     "data": {
      "text/plain": [
       "Dict{Any, Any} with 2 entries:\n",
       "  \"BTC\" => -0.169948\n",
       "  \"ETH\" => -0.108057"
      ]
     },
     "execution_count": 18,
     "metadata": {},
     "output_type": "execute_result"
    }
   ],
   "source": [
    "res = utils_load_crypto.pred(hp)\n",
    "\n",
    "# top_tickers, bottom_tickers = res.top_tick, res.bottom_tick\n",
    "# top_d, bottom_d = res.top_d, res.bottom_d;"
   ]
  },
  {
   "cell_type": "code",
   "execution_count": null,
   "id": "dddb1471",
   "metadata": {},
   "outputs": [],
   "source": []
  }
 ],
 "metadata": {
  "kernelspec": {
   "display_name": "Julia 1.8.4",
   "language": "julia",
   "name": "julia-1.8"
  },
  "language_info": {
   "file_extension": ".jl",
   "mimetype": "application/julia",
   "name": "julia",
   "version": "1.8.4"
  }
 },
 "nbformat": 4,
 "nbformat_minor": 5
}
