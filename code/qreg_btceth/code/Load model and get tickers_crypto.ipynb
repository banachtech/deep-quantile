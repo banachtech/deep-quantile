{
 "cells": [
  {
   "cell_type": "code",
   "execution_count": 1,
   "id": "ee60c724",
   "metadata": {
    "scrolled": true
   },
   "outputs": [
    {
     "name": "stderr",
     "output_type": "stream",
     "text": [
      "\u001b[33m\u001b[1m┌ \u001b[22m\u001b[39m\u001b[33m\u001b[1mWarning: \u001b[22m\u001b[39mJulia started with single thread, to enable multithreaded functionalities in InMemoryDatasets.jl start Julia with multiple threads.\n",
      "\u001b[33m\u001b[1m└ \u001b[22m\u001b[39m\u001b[90m@ InMemoryDatasets ~/.julia/packages/InMemoryDatasets/P9NS3/src/InMemoryDatasets.jl:205\u001b[39m\n"
     ]
    },
    {
     "data": {
      "text/plain": [
       "Main.utils_load_crypto"
      ]
     },
     "execution_count": 1,
     "metadata": {},
     "output_type": "execute_result"
    }
   ],
   "source": [
    "using BSON: @load\n",
    "using Flux, CSV, DataFrames, Statistics, Random\n",
    "\n",
    "include(\"Utils-quantile-scrape-and-process-data-cypto.jl\")\n",
    "include(\"Utils-quantile-load-model_crypto.jl\")"
   ]
  },
  {
   "cell_type": "code",
   "execution_count": 2,
   "id": "474440a5",
   "metadata": {},
   "outputs": [
    {
     "data": {
      "text/plain": [
       "\"/Users/cpu2/Downloads/qreg_btceth/code\""
      ]
     },
     "execution_count": 2,
     "metadata": {},
     "output_type": "execute_result"
    }
   ],
   "source": [
    "pwd()"
   ]
  },
  {
   "cell_type": "code",
   "execution_count": 3,
   "id": "01229162",
   "metadata": {
    "scrolled": true
   },
   "outputs": [],
   "source": [
    "df = utils_load_data_crypto.combined_data();"
   ]
  },
  {
   "cell_type": "code",
   "execution_count": 4,
   "id": "469296a5",
   "metadata": {},
   "outputs": [],
   "source": [
    "dir = \"../data/\"\n",
    "\n",
    "hp = Dict(\n",
    "    \"dir\" => dir,\n",
    "    \"data\" => df,\n",
    "    );\n"
   ]
  },
  {
   "cell_type": "code",
   "execution_count": 17,
   "id": "3b623bc9",
   "metadata": {
    "scrolled": true
   },
   "outputs": [
    {
     "data": {
      "text/plain": [
       "Dict{Any, Any} with 2 entries:\n",
       "  \"BTC\" => 0.100407\n",
       "  \"ETH\" => -0.281212"
      ]
     },
     "execution_count": 17,
     "metadata": {},
     "output_type": "execute_result"
    }
   ],
   "source": [
    "res = utils_load_crypto.pred(hp)"
   ]
  },
  {
   "cell_type": "code",
   "execution_count": null,
   "id": "2264edcc",
   "metadata": {},
   "outputs": [],
   "source": []
  }
 ],
 "metadata": {
  "kernelspec": {
   "display_name": "Julia 1.8.2",
   "language": "julia",
   "name": "julia-1.8"
  },
  "language_info": {
   "file_extension": ".jl",
   "mimetype": "application/julia",
   "name": "julia",
   "version": "1.8.2"
  }
 },
 "nbformat": 4,
 "nbformat_minor": 5
}
