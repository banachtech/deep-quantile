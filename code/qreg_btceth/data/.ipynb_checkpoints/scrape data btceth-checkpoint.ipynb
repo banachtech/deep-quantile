{
 "cells": [
  {
   "cell_type": "code",
   "execution_count": 1,
   "id": "a06bcedb",
   "metadata": {
    "scrolled": true
   },
   "outputs": [
    {
     "name": "stderr",
     "output_type": "stream",
     "text": [
      "\u001b[33m\u001b[1m┌ \u001b[22m\u001b[39m\u001b[33m\u001b[1mWarning: \u001b[22m\u001b[39mJulia started with single thread, to enable multithreaded functionalities in InMemoryDatasets.jl start Julia with multiple threads.\n",
      "\u001b[33m\u001b[1m└ \u001b[22m\u001b[39m\u001b[90m@ InMemoryDatasets ~/.julia/packages/InMemoryDatasets/P9NS3/src/InMemoryDatasets.jl:205\u001b[39m\n"
     ]
    }
   ],
   "source": [
    "using CSV, DataFrames, Statistics, Distributions, StatsBase, InMemoryDatasets\n",
    "using  Random, Statistics, DataStructures, LinearAlgebra\n",
    "using HTTP, JSON3, Dates"
   ]
  },
  {
   "cell_type": "code",
   "execution_count": 35,
   "id": "fde67093",
   "metadata": {},
   "outputs": [
    {
     "data": {
      "text/plain": [
       "get_daily_data (generic function with 1 method)"
      ]
     },
     "execution_count": 35,
     "metadata": {},
     "output_type": "execute_result"
    }
   ],
   "source": [
    "function get_daily_data(symbol)\n",
    "\n",
    "    url1 = \"https://www.alphavantage.co/query?function=DIGITAL_CURRENCY_DAILY&symbol=\"\n",
    "    url2 = \"&market=USD&apikey=0JA1NVBAL8CHYSCH\"\n",
    "    u = url1 * symbol * url2\n",
    "\n",
    "    resp = HTTP.request(\"GET\", u)\n",
    "    rawdata = JSON3.read(String(resp.body))\n",
    "    information = [i for i in rawdata[Symbol(\"Time Series (Digital Currency Daily)\")]]\n",
    "    format = DateFormat(\"y-m-d\")\n",
    "    dates = [Date(String(information[i][1]),format) for i in 1:length(rawdata[Symbol(\"Time Series (Digital Currency Daily)\")])]\n",
    "    adjclose = [parse(Float64,information[i][2][Symbol(\"4a. close (USD)\")]) for i in 1:length(rawdata[Symbol(\"Time Series (Digital Currency Daily)\")])]\n",
    "    volume = [parse(Float64,information[i][2][Symbol(\"5. volume\")]) for i in 1:length(rawdata[Symbol(\"Time Series (Digital Currency Daily)\")])]\n",
    "\n",
    "    returns = [(adjclose[i]-adjclose[i+1])./adjclose[i+1] for i in 1:length(adjclose)-1]\n",
    "    volume = [(volume[i]-volume[i+1])./volume[i+1] for i in 1:length(volume)-1]\n",
    "\n",
    "    df = DataFrame(Date = dates[1:end-1], returns = returns, volume = volume)\n",
    "    col_names = [\"Date\", \"ret_\"*symbol, \"vol_\"*symbol]\n",
    "    \n",
    "    DataFrames.rename!(df, col_names)\n",
    "\n",
    "\n",
    "    return sort!(df,[:Date])\n",
    "end\n"
   ]
  },
  {
   "cell_type": "code",
   "execution_count": 42,
   "id": "138cf4d2",
   "metadata": {},
   "outputs": [
    {
     "data": {
      "text/plain": [
       "combined_data (generic function with 1 method)"
      ]
     },
     "execution_count": 42,
     "metadata": {},
     "output_type": "execute_result"
    }
   ],
   "source": [
    "function combined_data()\n",
    "    tickers = [\"BTC\", \"ETH\"]\n",
    "\n",
    "    df = DataFrame()\n",
    "    for j in tickers\n",
    "        try\n",
    "            d = get_daily_data(j)\n",
    "            if isempty(df)\n",
    "                df = d\n",
    "            else\n",
    "                df = sort!(outerjoin(df, d, on=:Date, makeunique=true) , [:Date])\n",
    "            end\n",
    "        catch\n",
    "            println(\"did not get \", j)\n",
    "        end\n",
    "    sleep(rand(2:5))\n",
    "    end\n",
    "\n",
    "    odd = [i for i in 1:ncol(df) if i%2==1]\n",
    "    even = [i for i in 1:ncol(df) if i%2==0]\n",
    "\n",
    "    dfodd = df[!, odd]\n",
    "    dfeven = df[!, even]\n",
    "    df = hcat(dfodd, dfeven)\n",
    "\n",
    "end"
   ]
  },
  {
   "cell_type": "code",
   "execution_count": null,
   "id": "9e212cee",
   "metadata": {},
   "outputs": [],
   "source": []
  }
 ],
 "metadata": {
  "kernelspec": {
   "display_name": "Julia 1.8.4",
   "language": "julia",
   "name": "julia-1.8"
  },
  "language_info": {
   "file_extension": ".jl",
   "mimetype": "application/julia",
   "name": "julia",
   "version": "1.8.4"
  }
 },
 "nbformat": 4,
 "nbformat_minor": 5
}
